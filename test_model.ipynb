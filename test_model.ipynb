{
 "cells": [
  {
   "cell_type": "code",
   "execution_count": null,
   "metadata": {},
   "outputs": [],
   "source": [
    "import torch\n",
    "import torch.nn as nn\n",
    "import torch.nn.functional as F\n",
    "import torch.optim as optim"
   ]
  },
  {
   "cell_type": "code",
   "execution_count": null,
   "metadata": {},
   "outputs": [],
   "source": [
    "### Dropout ###\n",
    "DRPT_prob = 0.5\n",
    "###############"
   ]
  },
  {
   "cell_type": "code",
   "execution_count": null,
   "metadata": {},
   "outputs": [],
   "source": [
    "c1_out_channels = K = 96  ## AKA K\n",
    "no_of_RCL_blocks = 4"
   ]
  },
  {
   "cell_type": "code",
   "execution_count": null,
   "metadata": {},
   "outputs": [],
   "source": [
    "class RCLBlock(nn.Module):\n",
    "    def __init__(self):\n",
    "        super(RCLBlock, self).__init__()\n",
    "\n",
    "        self.feedforward_filter = nn.Conv3d(K,K,(1,3,3),stride=(2,1,1),padding=(0,1,1))\n",
    "        self.recurrent_filter = nn.Conv3d(K,K,(1,3,3),stride=(2,1,1),padding=(0,1,1))\n",
    "        self.timesteps = 3\n",
    "\n",
    "    def forward(self, input):\n",
    "        out = feedforward_output = (F.relu(self.feedforward_filter(input)))\n",
    "        for i in range(self.timesteps):\n",
    "            out = self.recurrent_filter(out)\n",
    "            out = out + feedforward_output\n",
    "            out = (F.relu(out))\n",
    "        return out"
   ]
  },
  {
   "cell_type": "code",
   "execution_count": null,
   "metadata": {},
   "outputs": [],
   "source": [
    "class RCNN(nn.Module):\n",
    "    def __init__(self, n_classes=6):\n",
    "        super(RCNN, self).__init__()\n",
    "        \n",
    "#         self.LRN = nn.LocalResponseNorm(LRN_size,alpha=LRN_alpha)\n",
    "        self.n_frames = 128\n",
    "#         self.Dropout = nn.Dropout(DRPT_prob)\n",
    "        self.MaxPool = nn.MaxPool3d(3,stride=(2,2,2),padding=1)\n",
    "        self.conv1 = nn.Conv3d(self.n_frames,K,(3,2,2),padding=(0,0,0))\n",
    "        self.ReLU = nn.ReLU()\n",
    "#         self.conv2 = nn.Conv2d(K,64,5)\n",
    "        self.RCL1 = RCLBlock()\n",
    "        self.RCL2 = RCLBlock()\n",
    "        self.RCL3 = RCLBlock()\n",
    "        self.RCL4 = RCLBlock()\n",
    "        self.RCL5 = RCLBlock()\n",
    "        self.RCL6 = RCLBlock()\n",
    "\n",
    "        self.Linear = nn.Linear(K,n_classes)\n",
    "\n",
    "    \n",
    "\n",
    "\n",
    "    def forward(self, x):\n",
    "        out = self.conv1(x)\n",
    "#         print(out.shape)\n",
    "        # return out\n",
    "        out = self.MaxPool(out)\n",
    "        # return out\n",
    "         ## RCL Block :- 1\n",
    "        out = self.RCL1(out)\n",
    "#         out = self.Dropout(out)\n",
    "         ## RCL Block :- 2\n",
    "        out = self.RCL2(out)\n",
    "        out = self.MaxPool(out)\n",
    "\n",
    "#         out = self.Dropout(out)\n",
    "        \n",
    "        ## RCL Block :- 3\n",
    "        out = self.RCL3(out)\n",
    "#         out = self.Dropout(out)\n",
    "         ## RCL Block :- 4\n",
    "        out = self.RCL4(out)\n",
    "        \n",
    "#         out = self.conv2(out)\n",
    "        out = self.MaxPool(out)\n",
    "            \n",
    "#         out = self.Dropout(out)\n",
    "         ## RCL Block :- 4\n",
    "        out = self.RCL5(out)\n",
    "#         out = self.Dropout(out)\n",
    "#          ## RCL Block :- 4\n",
    "        out = self.RCL6(out)\n",
    "\n",
    "        ## Global Max Pooling\n",
    "        out = F.max_pool3d(out, out.size()[2:])  ## after this, out.shape == N,K,1,1\n",
    "        out = out.view(out.size()[0],out.size()[1])  ##  after this, out.shape == N,K  \n",
    "        out = self.Linear(out)  ## after this, out.shape == N,n_classes\n",
    "        out = F.softmax(out,dim=1)\n",
    "        return out"
   ]
  },
  {
   "cell_type": "code",
   "execution_count": null,
   "metadata": {},
   "outputs": [],
   "source": [
    "from ucf_data import UCF_dataloader"
   ]
  },
  {
   "cell_type": "code",
   "execution_count": null,
   "metadata": {},
   "outputs": [],
   "source": [
    "inp,labels = next(iter(UCF_dataloader))"
   ]
  },
  {
   "cell_type": "code",
   "execution_count": null,
   "metadata": {},
   "outputs": [],
   "source": [
    "oo = net(inp.float().cuda())"
   ]
  },
  {
   "cell_type": "code",
   "execution_count": null,
   "metadata": {},
   "outputs": [],
   "source": [
    "predicted_labels = torch.argmax(oo, dim=1)\n",
    "torch.eq(predicted_labels.cpu(),labels).cpu().sum().view(1).numpy()[0]"
   ]
  },
  {
   "cell_type": "code",
   "execution_count": null,
   "metadata": {},
   "outputs": [],
   "source": [
    "net = RCNN()"
   ]
  },
  {
   "cell_type": "code",
   "execution_count": null,
   "metadata": {},
   "outputs": [],
   "source": [
    "net"
   ]
  },
  {
   "cell_type": "code",
   "execution_count": null,
   "metadata": {},
   "outputs": [],
   "source": [
    "sum([param.nelement() for param in net.parameters()])"
   ]
  },
  {
   "cell_type": "code",
   "execution_count": null,
   "metadata": {},
   "outputs": [],
   "source": [
    "learning_rate = 1e-5\n",
    "epoch = 30"
   ]
  },
  {
   "cell_type": "code",
   "execution_count": null,
   "metadata": {},
   "outputs": [],
   "source": [
    "criterion = nn.CrossEntropyLoss()\n",
    "optimizer = optim.RMSprop(net.parameters(), lr=learning_rate)"
   ]
  },
  {
   "cell_type": "code",
   "execution_count": null,
   "metadata": {},
   "outputs": [],
   "source": [
    "use_gpu = torch.cuda.is_available() #and False\n",
    "\n",
    "if use_gpu:\n",
    "    net = net.cuda()"
   ]
  },
  {
   "cell_type": "code",
   "execution_count": null,
   "metadata": {},
   "outputs": [],
   "source": [
    "# net = net.cpu()"
   ]
  },
  {
   "cell_type": "code",
   "execution_count": null,
   "metadata": {},
   "outputs": [],
   "source": [
    "loss_trend = []\n",
    "accuracy_trend = []"
   ]
  },
  {
   "cell_type": "code",
   "execution_count": null,
   "metadata": {
    "scrolled": true
   },
   "outputs": [],
   "source": [
    "for i in range(epoch):\n",
    "    loss_each_epoch = []\n",
    "    running_accuracy = []\n",
    "    mini_count = 1\n",
    "    for images,labels in UCF_dataloader:\n",
    "        net = net.train()\n",
    "        if use_gpu:\n",
    "            images = images.cuda()\n",
    "            labels = labels.cuda()\n",
    "\n",
    "        optimizer.zero_grad()\n",
    "        # scheduler.optimizer.zero_grad()\n",
    "        output = net(images.float())\n",
    "        # print(output)\n",
    "        # print(target)\n",
    "\n",
    "        loss = criterion(output, labels)\n",
    "        loss.backward()\n",
    "        optimizer.step()\n",
    "        # scheduler.step(loss)\n",
    "        loss_to_append = loss.clone().cpu().view(1).data.numpy()[0]\n",
    "        print(\"Epoch : {}, Mini-Epoch : {}, Loss: {}\".format(i+1,mini_count,loss_to_append))\n",
    "        mini_count += 1\n",
    "        loss_each_epoch.append(loss_to_append)\n",
    "\n",
    "    loss_trend.append(sum(loss_each_epoch))\n",
    "\n",
    "\n",
    "    print('##### Epoch {} #####'.format(i+1))\n",
    "    print('Loss : {}'.format(sum(loss_each_epoch)))\n",
    "    print('####################')\n"
   ]
  },
  {
   "cell_type": "code",
   "execution_count": null,
   "metadata": {},
   "outputs": [],
   "source": [
    "state = {\n",
    "    'epoch': 30,\n",
    "    'state_dict': net.state_dict(),\n",
    "    'optimizer': optimizer.state_dict(),\n",
    "}"
   ]
  },
  {
   "cell_type": "code",
   "execution_count": null,
   "metadata": {},
   "outputs": [],
   "source": [
    "torch.save(state,'23eps_4RCLs_3 ts_trained.net')"
   ]
  },
  {
   "cell_type": "code",
   "execution_count": null,
   "metadata": {},
   "outputs": [],
   "source": [
    "loss_trend"
   ]
  },
  {
   "cell_type": "code",
   "execution_count": null,
   "metadata": {},
   "outputs": [],
   "source": [
    "import matplotlib.pyplot as plt"
   ]
  },
  {
   "cell_type": "code",
   "execution_count": null,
   "metadata": {},
   "outputs": [],
   "source": [
    "plt.plot(loss_trend)"
   ]
  },
  {
   "cell_type": "code",
   "execution_count": null,
   "metadata": {},
   "outputs": [],
   "source": [
    "fig = plt.figure()\n",
    "fig.suptitle('RCNN-96-Vid-4RCL-3-timesteps | Min loss:- 23.4908', fontsize=12)\n",
    "ax = fig.add_subplot(111)\n",
    "fig.subplots_adjust(top=0.85)\n",
    "ax.set_xlabel('Epoch')\n",
    "ax.set_ylabel('Loss')\n",
    "ax.plot(loss_trend)\n",
    "fig.savefig('loss-RCNN-96-Vid-4RCL-3-timesteps.png')"
   ]
  },
  {
   "cell_type": "code",
   "execution_count": null,
   "metadata": {},
   "outputs": [],
   "source": [
    "min(loss_trend)"
   ]
  },
  {
   "cell_type": "code",
   "execution_count": null,
   "metadata": {},
   "outputs": [],
   "source": []
  }
 ],
 "metadata": {
  "kernelspec": {
   "display_name": "Python 3",
   "language": "python",
   "name": "python3"
  },
  "language_info": {
   "codemirror_mode": {
    "name": "ipython",
    "version": 3
   },
   "file_extension": ".py",
   "mimetype": "text/x-python",
   "name": "python",
   "nbconvert_exporter": "python",
   "pygments_lexer": "ipython3",
   "version": "3.5.2"
  }
 },
 "nbformat": 4,
 "nbformat_minor": 2
}
